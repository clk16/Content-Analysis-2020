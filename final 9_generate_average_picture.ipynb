{
 "cells": [
  {
   "cell_type": "code",
   "execution_count": 1,
   "metadata": {},
   "outputs": [],
   "source": [
    "import pandas as pd\n",
    "import numpy as np\n",
    "import os\n",
    "os.chdir(\"C:/Users/Kun/content-final\")\n",
    "namedf=pd.read_excel(\"cleaned.xlsx\",Sheet='sheet1')\n",
    "import requests\n",
    "import time"
   ]
  },
  {
   "cell_type": "code",
   "execution_count": 2,
   "metadata": {},
   "outputs": [],
   "source": [
    "namedf['gender'].fillna('male',inplace=True)\n",
    "namedf['gender']=namedf['gender'].apply(lambda x: x.lower().strip())"
   ]
  },
  {
   "cell_type": "code",
   "execution_count": 3,
   "metadata": {},
   "outputs": [],
   "source": [
    "os.makedirs('./image/', exist_ok=True)\n",
    "os.makedirs('./image/1', exist_ok=True)\n",
    "os.makedirs('./image/3', exist_ok=True)\n",
    "os.makedirs('./image/5', exist_ok=True)\n",
    "os.makedirs('./image/m', exist_ok=True)\n",
    "os.makedirs('./image/f', exist_ok=True)\n",
    "for i in range(0,len(namedf)):\n",
    "    url=namedf.iloc[i]['pic']\n",
    "    name=namedf.iloc[i]['name']\n",
    "    gender=namedf.iloc[i]['gender']\n",
    "    occupation=namedf.iloc[i]['occupation code']\n",
    "    try:\n",
    "        r = requests.get(url)\n",
    "        if gender=='male':\n",
    "            with open('./image/m/'+name+'.png', 'wb') as f:\n",
    "                f.write(r.content)     \n",
    "                time.sleep(2)\n",
    "        elif gender=='female':\n",
    "            with open('./image/f/'+name+'.png', 'wb') as f:\n",
    "                f.write(r.content)     \n",
    "                time.sleep(2)\n",
    "        else:\n",
    "            with open('./image/m/'+name+'.png', 'wb') as f:\n",
    "                f.write(r.content)     \n",
    "                time.sleep(2)\n",
    "        if occupation==1 or occupation==2:\n",
    "             with open('./image/1/'+name+'.png', 'wb') as f:\n",
    "                f.write(r.content)     \n",
    "        elif occupation==3 or occupation==4:\n",
    "            with open('./image/3/'+name+'.png', 'wb') as f:\n",
    "                f.write(r.content)     \n",
    "        elif occupation==5:\n",
    "            with open('./image/5/'+name+'.png', 'wb') as f:\n",
    "                f.write(r.content)     \n",
    "    except:\n",
    "        continue"
   ]
  },
  {
   "cell_type": "code",
   "execution_count": 5,
   "metadata": {},
   "outputs": [
    {
     "data": {
      "text/plain": [
       "2"
      ]
     },
     "execution_count": 5,
     "metadata": {},
     "output_type": "execute_result"
    }
   ],
   "source": [
    "namedf[0:5]['occupation code'][0]"
   ]
  },
  {
   "cell_type": "code",
   "execution_count": 15,
   "metadata": {},
   "outputs": [],
   "source": [
    "os.makedirs('./image/f/resize', exist_ok=True)\n",
    "from PIL import Image\n",
    "import os.path\n",
    "import glob\n",
    "def convertjpg(jpgfile,outdir,width=160,height=128):\n",
    "    img=Image.open(jpgfile)\n",
    "    try:\n",
    "        new_img=img.resize((width,height),Image.BILINEAR)   \n",
    "        new_img.save(os.path.join(outdir,os.path.basename(jpgfile)))\n",
    "    except Exception as e:\n",
    "        print(e)\n",
    "for jpgfile in glob.glob(\"C:/Users/Kun/content-final/image/f/*.png\"):\n",
    "    convertjpg(jpgfile,\"C:/Users/Kun/content-final/image/f/resize\")"
   ]
  },
  {
   "cell_type": "code",
   "execution_count": 58,
   "metadata": {},
   "outputs": [
    {
     "name": "stdout",
     "output_type": "stream",
     "text": [
      "Adriana.png\n",
      "Alexis.png\n",
      "Allison.png\n",
      "Amanda.png\n",
      "Angie.png\n",
      "Billie.png\n",
      "Blair.png\n",
      "Bobbie.png\n",
      "Brenda.png\n",
      "Bridget.png\n",
      "Brittany.png\n",
      "Brook-Lynn.png\n",
      "Brooke.png\n",
      "Carlotta.png\n",
      "Carly.png\n",
      "Carrie.png\n",
      "Celeste.png\n",
      "Claire.png\n",
      "Claudia.png\n",
      "Colby.png\n",
      "Colleen.png\n",
      "Courtney.png\n",
      "Dani.png\n",
      "Danielle.png\n",
      "Destiny.png\n",
      "Diane.png\n",
      "Dorian.png\n",
      "Elizabeth.png\n",
      "Faith.png\n",
      "Felicia.png\n",
      "Gabrielle.png\n",
      "Gia.png\n",
      "Gigi.png\n",
      "Hayley.png\n",
      "Helena.png\n",
      "Jan.png\n",
      "Jen.png\n",
      "Jennifer.png\n",
      "Jessica.png\n",
      "Jill.png\n",
      "Karen.png\n",
      "Kelly.png\n",
      "Keri.png\n",
      "Kim.png\n",
      "Kristina.png\n",
      "Langston.png\n",
      "Laura.png\n",
      "Layla.png\n",
      "Lindsay.png\n",
      "Lisa.png\n",
      "Lucy.png\n",
      "Lulu.png\n",
      "Maggie.png\n",
      "Marcie.png\n",
      "Marlena.png\n",
      "Marty.png\n",
      "Maxie.png\n",
      "Melanie.png\n",
      "Mimi.png\n",
      "Monica.png\n",
      "Nadine.png\n",
      "Nancy.png\n",
      "Nora.png\n",
      "Paige.png\n",
      "Rebecca.png\n",
      "Reese.png\n",
      "Renee.png\n",
      "Robin.png\n",
      "Roxy.png\n",
      "Sam.png\n",
      "Sharon.png\n",
      "Sheila.png\n",
      "Skye.png\n",
      "Stacy.png\n",
      "Starr.png\n",
      "Steffy.png\n",
      "Stephanie.png\n",
      "Talia.png\n",
      "Taylor.png\n",
      "Tess.png\n",
      "Tracy.png\n",
      "Viki.png\n"
     ]
    },
    {
     "data": {
      "text/plain": [
       "True"
      ]
     },
     "execution_count": 58,
     "metadata": {},
     "output_type": "execute_result"
    }
   ],
   "source": [
    "import cv2\n",
    "theimage=np.array((300,208,3))\n",
    "n=0\n",
    "for i in os.listdir(\"C:/Users/Kun/content-final/image/f/resize\"):\n",
    "    print(i)\n",
    "    img1=cv2.imread('C:/Users/Kun/content-final/image/f/resize/'+i, flags=cv2.IMREAD_COLOR)\n",
    "    img1 = img1.astype(np.float32)\n",
    "    theimage=theimage+img1\n",
    "    n+=1\n",
    "aveimg = theimage/n\n",
    "aveimg = aveimg.astype(np.uint8)\n",
    "cv2.imwrite('C:/Users/Kun/content-final/image/f/avreage.jpg',aveimg)"
   ]
  }
 ],
 "metadata": {
  "kernelspec": {
   "display_name": "Python 3",
   "language": "python",
   "name": "python3"
  },
  "language_info": {
   "codemirror_mode": {
    "name": "ipython",
    "version": 3
   },
   "file_extension": ".py",
   "mimetype": "text/x-python",
   "name": "python",
   "nbconvert_exporter": "python",
   "pygments_lexer": "ipython3",
   "version": "3.7.3"
  }
 },
 "nbformat": 4,
 "nbformat_minor": 2
}
