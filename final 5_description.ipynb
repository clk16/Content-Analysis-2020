{
 "cells": [
  {
   "cell_type": "code",
   "execution_count": 1,
   "metadata": {},
   "outputs": [],
   "source": [
    "import pandas as pd\n",
    "import numpy as np\n",
    "import os\n",
    "os.chdir(\"/home/lkcao/content-final/\")\n",
    "import matplotlib.pyplot as plt\n",
    "%matplotlib inline"
   ]
  },
  {
   "cell_type": "code",
   "execution_count": 2,
   "metadata": {},
   "outputs": [],
   "source": [
    "namedf=pd.read_excel('/home/lkcao/content-final/cleaned.xlsx',Sheet='sheet1')\n",
    "sodf=pd.read_csv(\"sepsoap.txt\",encoding='utf-8',sep='\\t')\n",
    "df=pd.read_excel(\"/home/lkcao/content-final/wholesoap.xlsx\",Sheet=\"sheet1\")"
   ]
  },
  {
   "cell_type": "code",
   "execution_count": 8,
   "metadata": {},
   "outputs": [
    {
     "data": {
      "text/plain": [
       "{'Male1': 142,\n",
       " 'Male2': 29,\n",
       " 'Male3': 1,\n",
       " 'Male4': 35,\n",
       " 'Male5': 58,\n",
       " 'Female1': 142,\n",
       " 'Female2': 39,\n",
       " 'Female3': 1,\n",
       " 'Female4': 25,\n",
       " 'Female5': 61}"
      ]
     },
     "execution_count": 8,
     "metadata": {},
     "output_type": "execute_result"
    }
   ],
   "source": [
    "# To get the gender and occupation distribution of characters\n",
    "portrait=dict()\n",
    "for i in ['Male','Female']:\n",
    "    for j in [1,2,3,4,5]:\n",
    "        df0=namedf.loc[(namedf['gender']==i)&(namedf['occupation code']==j)]\n",
    "        portrait[i+str(j)]=len(df0)\n",
    "portrait"
   ]
  },
  {
   "cell_type": "code",
   "execution_count": 38,
   "metadata": {},
   "outputs": [
    {
     "data": {
      "text/plain": [
       "{'Male1': 27,\n",
       " 'Male2': 4,\n",
       " 'Male3': 1,\n",
       " 'Male4': 6,\n",
       " 'Male5': 8,\n",
       " 'Female1': 34,\n",
       " 'Female2': 6,\n",
       " 'Female3': 0,\n",
       " 'Female4': 2,\n",
       " 'Female5': 10}"
      ]
     },
     "execution_count": 38,
     "metadata": {},
     "output_type": "execute_result"
    }
   ],
   "source": [
    "#Get Information of the first 10 characters in each opera\n",
    "mainportrait=dict()\n",
    "for t in set(list(namedf['show'])):\n",
    "    df0=namedf[namedf['show']==t]\n",
    "    df0=df0.sort_values(by='times', axis=0, ascending=False, inplace=False)[0:10]\n",
    "    for i in ['Male','Female']:\n",
    "        for j in [1,2,3,4,5]:\n",
    "            df1=df0.loc[(df0['gender']==i)&(df0['occupation code']==j)]\n",
    "            mainportrait[i+str(j)]=mainportrait.get(i+str(j),0)+len(df1)\n",
    "mainportrait"
   ]
  },
  {
   "cell_type": "code",
   "execution_count": null,
   "metadata": {},
   "outputs": [],
   "source": []
  }
 ],
 "metadata": {
  "kernelspec": {
   "display_name": "Python 3",
   "language": "python",
   "name": "python3"
  },
  "language_info": {
   "codemirror_mode": {
    "name": "ipython",
    "version": 3
   },
   "file_extension": ".py",
   "mimetype": "text/x-python",
   "name": "python",
   "nbconvert_exporter": "python",
   "pygments_lexer": "ipython3",
   "version": "3.6.9"
  }
 },
 "nbformat": 4,
 "nbformat_minor": 2
}
